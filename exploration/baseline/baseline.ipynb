{
 "cells": [
  {
   "cell_type": "markdown",
   "metadata": {},
   "source": [
    "## Baseline: Logistic regression\n",
    "Baseline model for Kaggle's Santander Customer Transaction Prediction challenge."
   ]
  },
  {
   "cell_type": "code",
   "execution_count": 1,
   "metadata": {},
   "outputs": [],
   "source": [
    "import pandas as pd\n",
    "import numpy as np\n",
    "from data_utils import *\n",
    "from LogisticRegression import *\n",
    "%load_ext autoreload\n",
    "%autoreload 2"
   ]
  },
  {
   "cell_type": "code",
   "execution_count": 2,
   "metadata": {
    "scrolled": true
   },
   "outputs": [
    {
     "name": "stdout",
     "output_type": "stream",
     "text": [
      "Subset sizes: Train = 159858, Val = 40142, Test = 200000\n"
     ]
    }
   ],
   "source": [
    "# load data and remove useless columns\n",
    "train = pd.read_csv(\"../data/train.csv\")\n",
    "y_train = train.pop(\"target\")\n",
    "train.pop(\"ID_code\")\n",
    "test = pd.read_csv(\"../data/test.csv\")\n",
    "ID_test = test.pop(\"ID_code\")\n",
    "\n",
    "# split validation set from training set\n",
    "train_i, val_i, _ = split_data_indices(len(train), w=[0.8, 0.2, 0])\n",
    "X_train = np.array(train.iloc[train_i,:].reset_index(drop=True))\n",
    "X_val = np.array(train.iloc[val_i,:].reset_index(drop=True))\n",
    "y_val = np.array(y_train[val_i].reset_index(drop=True))\n",
    "y_train = np.array(y_train[train_i].reset_index(drop=True))\n",
    "\n",
    "print(\"Subset sizes: Train = {}, Val = {}, Test = {}\".format(len(X_train), len(X_val), len(test)))"
   ]
  },
  {
   "cell_type": "markdown",
   "metadata": {},
   "source": [
    "Logistic regression using the algorithm developed for week 1's assignment."
   ]
  },
  {
   "cell_type": "code",
   "execution_count": 3,
   "metadata": {},
   "outputs": [
    {
     "name": "stdout",
     "output_type": "stream",
     "text": [
      "New record! val_auc=0.5014770340792719, train_auc=0.5009215206360037 with M=1, lambda=0, lr=0.001,\n",
      "1 out of 120 models trained so far\n",
      "New record! val_auc=0.5635700316535979, train_auc=0.5664515703294013 with M=3, lambda=0, lr=0.001,\n",
      "New record! val_auc=0.5708659860568422, train_auc=0.5673462935796597 with M=4, lambda=0, lr=0.001,\n",
      "New record! val_auc=0.5708689214266266, train_auc=0.5726304156317806 with M=3, lambda=0.001, lr=0.001,\n",
      "New record! val_auc=0.5712698640666688, train_auc=0.5659435871925738 with M=4, lambda=0.001, lr=0.001,\n",
      "New record! val_auc=0.5721107065846159, train_auc=0.5696939882228952 with M=3, lambda=0.01, lr=0.001,\n",
      "11 out of 120 models trained so far\n",
      "21 out of 120 models trained so far\n",
      "New record! val_auc=0.6018271597625944, train_auc=0.603015034804836 with M=3, lambda=0, lr=0.01,\n",
      "New record! val_auc=0.606487812042182, train_auc=0.6077102994523034 with M=3, lambda=0.001, lr=0.01,\n",
      "New record! val_auc=0.6084084787998109, train_auc=0.6072505304038759 with M=3, lambda=0.01, lr=0.01,\n",
      "31 out of 120 models trained so far\n",
      "41 out of 120 models trained so far\n",
      "New record! val_auc=0.6196915109215829, train_auc=0.6147478971019856 with M=2, lambda=0, lr=0.1,\n",
      "51 out of 120 models trained so far\n",
      "New record! val_auc=0.6513333741947805, train_auc=0.646944258010077 with M=1, lambda=0, lr=1,\n",
      "61 out of 120 models trained so far\n",
      "71 out of 120 models trained so far\n",
      "New record! val_auc=0.6541473282855421, train_auc=0.6510331742460713 with M=1, lambda=0.5, lr=1,\n",
      "New record! val_auc=0.6601366306706463, train_auc=0.659801030449499 with M=1, lambda=0, lr=10,\n",
      "81 out of 120 models trained so far\n",
      "91 out of 120 models trained so far\n",
      "New record! val_auc=0.6608231909776605, train_auc=0.6608702608550661 with M=1, lambda=0.5, lr=10,\n",
      "101 out of 120 models trained so far\n",
      "New record! val_auc=0.6623686184854657, train_auc=0.6621287097133202 with M=1, lambda=0.001, lr=100,\n",
      "New record! val_auc=0.6660385937744643, train_auc=0.6655700804522262 with M=1, lambda=0.01, lr=100,\n",
      "111 out of 120 models trained so far\n",
      "Best hyperparameters: lr=7.055079108655362e-08, M=1, regularization=0.01\n",
      "Best validation AUC: 0.6660385937744643\n",
      "Its AUC on the train set: 0.6655700804522262\n"
     ]
    }
   ],
   "source": [
    "from LogisticRegression import LogisticRegression\n",
    "\n",
    "# hyperparameters for each model\n",
    "learning_rates = [10**i for i in range(-3,3)]\n",
    "regularization_values = [0, 0.001, 0.01, 0.02, 0.5]\n",
    "polynomial_degrees = [1, 2, 3, 4]\n",
    "n_models = len(learning_rates)*len(regularization_values)*len(polynomial_degrees)\n",
    "\n",
    "best_val_auc = 0 # save the best performance\n",
    "best_regression = None # save here the instantiated regression object with the best performance\n",
    "trained = 0\n",
    "for lr in learning_rates:\n",
    "    for regularization in regularization_values:\n",
    "        for M in polynomial_degrees:\n",
    "            poly = LogisticRegression(poly_degree=M, n_predictors=X_train.shape[1], regularization=regularization,\n",
    "                                      learning_rate=lr, batch_size=5000)\n",
    "            poly.optimize(X=X_train, y=y_train.reshape((-1,1)), method='gd')\n",
    "            val_auc = poly.performance(X_val, y_val)\n",
    "            # is this the best val_MSE yet?\n",
    "            if val_auc > best_val_auc:\n",
    "                train_auc = poly.performance(X_train, y_train)\n",
    "                print(\"New record! val_auc={}, train_auc={} with M={}, lambda={}, lr={},\"\n",
    "                      .format(val_auc, train_auc, M, regularization, lr))\n",
    "                best_val_auc = val_auc\n",
    "                best_regression = poly\n",
    "            # report progress sometimes\n",
    "            trained += 1\n",
    "            if (trained % 10) == 1:\n",
    "                print(\"{} out of {} models trained so far\".format(trained, n_models))\n",
    "\n",
    "print(\"Best hyperparameters: lr={}, M={}, regularization={}\".format(best_regression.learning_rate,best_regression.M,best_regression.regularization))\n",
    "print(\"Best validation AUC: {}\".format(best_val_auc))\n",
    "print(\"Its AUC on the train set: {}\".format(best_regression.performance(X_train, y_train)))"
   ]
  },
  {
   "cell_type": "markdown",
   "metadata": {},
   "source": [
    "Best validation AUC obtained was $0.666$. I tried several choices for the hyperparameter search but was unable to increase the training AUC beyond this point. Thus, this baseline has a bias problem."
   ]
  }
 ],
 "metadata": {
  "kernelspec": {
   "display_name": "Python 3",
   "language": "python",
   "name": "python3"
  },
  "language_info": {
   "codemirror_mode": {
    "name": "ipython",
    "version": 3
   },
   "file_extension": ".py",
   "mimetype": "text/x-python",
   "name": "python",
   "nbconvert_exporter": "python",
   "pygments_lexer": "ipython3",
   "version": "3.7.3"
  }
 },
 "nbformat": 4,
 "nbformat_minor": 2
}
